{
 "cells": [
  {
   "cell_type": "code",
   "execution_count": null,
   "id": "a57a91af-e283-4134-b01a-16122c582108",
   "metadata": {},
   "outputs": [],
   "source": []
  }
 ],
 "metadata": {
  "kernelspec": {
   "display_name": "",
   "name": ""
  },
  "language_info": {
   "name": ""
  }
 },
 "nbformat": 4,
 "nbformat_minor": 5
}
